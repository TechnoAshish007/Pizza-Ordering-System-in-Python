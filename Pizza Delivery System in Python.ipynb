{
 "cells": [
  {
   "cell_type": "markdown",
   "metadata": {},
   "source": [
    "# Fun with Python"
   ]
  },
  {
   "cell_type": "markdown",
   "metadata": {},
   "source": [
    "## Pizza Delivery System Problem"
   ]
  },
  {
   "cell_type": "markdown",
   "metadata": {},
   "source": [
    "### The project is building a pizza takeaway ordering system\n",
    "#### Features of this project are \n",
    "##### 1) Customer can order pizza by selecting various options like pizza type, base type, toppings etc.\n",
    "##### 2) System should take care of invalid options\n",
    "##### 3) System should be storing customer daya to personalize\n",
    "##### 4) At the end, the program should display the itemized order with total price"
   ]
  },
  {
   "cell_type": "code",
   "execution_count": 1,
   "metadata": {},
   "outputs": [],
   "source": [
    "pizza_type_dict ={} # dictionary for storing pizza type data ## eg: pizza_type_dict[P1]= [Margarita, 3.0]\n",
    "base_type_dict ={}  # dictionary for storing base type data\n",
    "toppings_type_dict ={} # dictionary to store toppings data\n",
    "cust_data ={}           # dictionary to store customer data"
   ]
  },
  {
   "cell_type": "code",
   "execution_count": 2,
   "metadata": {},
   "outputs": [],
   "source": [
    "# define required functions"
   ]
  },
  {
   "cell_type": "code",
   "execution_count": 3,
   "metadata": {},
   "outputs": [],
   "source": [
    "# Load the data into the dictionaries\n",
    "def load_data(data_path, type):\n",
    "    data_file = open(data_path,\"r\")\n",
    "    for line in data_file:\n",
    "        splitedLine = line.split(\";\")\n",
    "        if type ==\"pizza\":\n",
    "            pizza_type_dict[splitedLine[0]]=[splitedLine[1],float(splitedLine[2])]\n",
    "        elif type == \"base\":\n",
    "                base_type_dict[splitedLine[0]]=[splitedLine[1],float(splitedLine[2])]\n",
    "        elif type == \"toppings\":\n",
    "                toppings_type_dict[splitedLine[0]]=[splitedLine[1],float(splitedLine[2])]\n",
    "    data_file.close() "
   ]
  },
  {
   "cell_type": "code",
   "execution_count": 4,
   "metadata": {},
   "outputs": [],
   "source": [
    "if __name__ == \"__main__\":\n",
    "    load_data(r\"F:\\MS Data Science - IIIT B Upgrad\\Python Crash Course-Rajan Chettri\\Types_of_Pizza.txt\", \"pizza\")\n",
    "    load_data(r\"F:\\MS Data Science - IIIT B Upgrad\\Python Crash Course-Rajan Chettri\\Types_of_Base.txt\", \"base\")\n",
    "    load_data(r\"F:\\MS Data Science - IIIT B Upgrad\\Python Crash Course-Rajan Chettri\\Types_of_Toppings.txt\", \"toppings\")"
   ]
  },
  {
   "cell_type": "code",
   "execution_count": 5,
   "metadata": {},
   "outputs": [
    {
     "data": {
      "text/plain": [
       "{'P1': ['Magherita', 3.0],\n",
       " 'P2': ['Chicago', 3.5],\n",
       " 'P3': ['Greek', 3.0],\n",
       " 'P4': ['California', 3.5],\n",
       " 'P5': ['Farm house', 3.0]}"
      ]
     },
     "execution_count": 5,
     "metadata": {},
     "output_type": "execute_result"
    }
   ],
   "source": [
    "pizza_type_dict"
   ]
  },
  {
   "cell_type": "code",
   "execution_count": 6,
   "metadata": {},
   "outputs": [
    {
     "data": {
      "text/plain": [
       "{'B1': ['Thin crust', 1.0],\n",
       " 'B2': ['Thick crust', 1.5],\n",
       " 'B3': ['Cheese burst', 2.0]}"
      ]
     },
     "execution_count": 6,
     "metadata": {},
     "output_type": "execute_result"
    }
   ],
   "source": [
    "base_type_dict"
   ]
  },
  {
   "cell_type": "code",
   "execution_count": 7,
   "metadata": {},
   "outputs": [
    {
     "data": {
      "text/plain": [
       "{'T1': ['Olives', 0.5],\n",
       " 'T2': ['Extra Cheese', 0.5],\n",
       " 'T3': ['Mushrooms', 0.5],\n",
       " 'T4': ['Green peppers', 0.5]}"
      ]
     },
     "execution_count": 7,
     "metadata": {},
     "output_type": "execute_result"
    }
   ],
   "source": [
    "toppings_type_dict"
   ]
  },
  {
   "cell_type": "code",
   "execution_count": 8,
   "metadata": {},
   "outputs": [],
   "source": [
    "## Generate unique order number for the given number\n",
    "def generate_order_num(name):\n",
    "    if name in cust_data.keys():# check if the customer allready exists in the cust data dictionary\n",
    "        ord_num = cust_data[name][\"num_of_orders\"]\n",
    "        ord_num += 1\n",
    "        return ord_num\n",
    "    else:\n",
    "        ord_num =0 # new customer \n",
    "        cust_data[name] = {}\n",
    "        cust_data[name][\"num_of_orders\"] = ord_num\n",
    "        ord_num += 1\n",
    "        return ord_num"
   ]
  },
  {
   "cell_type": "code",
   "execution_count": 9,
   "metadata": {},
   "outputs": [],
   "source": [
    "# common function for printing dictionaries to make menu available for customers\n",
    "def print_dict(dictionary):\n",
    "    print(\"Code, Type, Price\")\n",
    "    for key in dictionary.keys():\n",
    "        print(\"\"+ key + \", \" + str(dictionary[key][0]) + \", \" + str(dictionary[key][1]))"
   ]
  },
  {
   "cell_type": "code",
   "execution_count": 10,
   "metadata": {},
   "outputs": [],
   "source": [
    "# calculate the total bill of a customer given the order\n",
    "def calculate_bill(ord_tup):\n",
    "    bill = 0\n",
    "    piza_type = ord_tup[0]\n",
    "    base_type = ord_tup[1]\n",
    "    top_list = ord_tup[2]\n",
    "    qty = ord_tup[3]\n",
    "    bill += pizza_type_dict[piza_type][1]\n",
    "    bill += base_type_dict[base_type][1]\n",
    "    bill += len(top_list)*0.5\n",
    "    bill = bill * qty\n",
    "    return bill"
   ]
  },
  {
   "cell_type": "code",
   "execution_count": 11,
   "metadata": {},
   "outputs": [],
   "source": [
    "# add orders to the cust_data dictionary\n",
    "def add_cust_data (order_tup, name, order_num):\n",
    "    cust_data[name][\"num_of_orders\"]= order_num\n",
    "    if order_num in cust_data[name].keys():\n",
    "        l = cust_data[name][order_num]\n",
    "        l.append(order_tup)\n",
    "    else:\n",
    "        l =[]\n",
    "        l.append(order_tup)\n",
    "        cust_data[name][order_num]=1"
   ]
  },
  {
   "cell_type": "code",
   "execution_count": 12,
   "metadata": {},
   "outputs": [],
   "source": [
    "# print the final order\n",
    "def print_complete_order(name, ord_num):\n",
    "    order_list = cust_data[name][ord_num]\n",
    "    print(\"Piza_type\"+\"-->\"+\"Base_type\"+ \"-->\"+ \"Toppings\" + \"-->\" + \"-->\" + \"qty\"+ \"-->\"+ \"price\")\n",
    "    print(\"-------------------------------------------\")\n",
    "    for order in order_list:\n",
    "        bill = calculate_bill(order)\n",
    "        print(order[0]+ \"-->\"+ order[1]+\"-->\" +str(order[2])+ \"-->\" + str(order[3])+ \"-->\"+ str(bill)+\"$\") "
   ]
  },
  {
   "cell_type": "code",
   "execution_count": 13,
   "metadata": {},
   "outputs": [],
   "source": [
    "# Function to order data\n",
    "def order():\n",
    "    print(\"Welcome to the pizza takeaway\")\n",
    "    name = input(\"Please enter your name \")\n",
    "    total_bill = 0\n",
    "    ord_num = generate_order_num(name)\n",
    "    print(\"Hello \" + name + \", What kind of pizza would you like to have:\")\n",
    "    print_dict(pizza_type_dict)\n",
    "    piza_type = input(\"Please select from above options:\")\n",
    "    piza_type = piza_type.upper() #converted into a upper case\n",
    "    while piza_type != \"x\":\n",
    "        if piza_type in pizza_type_dict.keys():\n",
    "            print(\" Here is the base options available\")\n",
    "            print_dict(base_type_dict)\n",
    "            base_type = input(\"Please enter your option:\")\n",
    "            base_type = base_type.upper() #converted into a upper case\n",
    "            # check if the base type option is valid\n",
    "            base_flag = 0\n",
    "            while base_flag ==0:\n",
    "                base_flag = 1\n",
    "                if base_type not in base_type_dict.keys():\n",
    "                    base_flag = 0\n",
    "                    print(\" It is an invalid option\")\n",
    "                    print_dict(base_type_dict)\n",
    "                    base_type =  input(\" please enter the valid option\")\n",
    "                    base_type = base_type.upper()\n",
    "            \n",
    "            print(\"\\n\")\n",
    "            print(\" Please enter the toppings you would like to have from following list\")\n",
    "            print_dict(toppings_type_dict)\n",
    "            toppings = input(\"Enter the toppings in comma separated form, e.g, if you want to add T1 and t2, enter T1, T2\")\n",
    "            split_toppings = toppings.split(\", \")\n",
    "            split_toppings=[x.upper() for x in split_toppings] #onverting the list into upper case\n",
    "            \n",
    "            # checl if topping are valid\n",
    "            top_flag = 0\n",
    "            while top_flag ==0:\n",
    "                top_flag = 1\n",
    "                for item in split_toppings:\n",
    "                    if item not in toppings_type_dict.keys():\n",
    "                        top_flag = 0\n",
    "                        toppings = input(\"\" + item + \" is invalid, please reenter the toppings\")\n",
    "                        split_toppings= toppings.split(\",\")\n",
    "                        split_toppings= [x.upper() for x in split_toppings]\n",
    "                        break\n",
    "            \n",
    "            qty = 2000\n",
    "            while qty > 1000:\n",
    "                qty = input(\"Please enter the number of pizzas to order\")\n",
    "                qty = int(qty)\n",
    "                if qty > 1000:\n",
    "                    print(\"You cannot order more than 1000 pizzas\")\n",
    "                \n",
    "            print(\"\\n\")\n",
    "            print(\"Here is your order till now\")\n",
    "            print(\"Pizza Type: \", pizza_type_dict[piza_type][0])\n",
    "            print(\"Pizza Base: \", base_type_dict[base_type][0])\n",
    "            print(\"Toppings: \", str(split_toppings))\n",
    "            print(\"Number of pizzas\", qty)\n",
    "            \n",
    "          \n",
    "            cnf = input(\"Press y to confirm, else press c to cancel\")\n",
    "            if cnf == \"y\":\n",
    "                ord_tup =  (piza_type, base_type, split_toppings, qty)\n",
    "                total_bill = calculate_bill(ord_tup)\n",
    "                print(\" Your total bill till now is\", total_bill)\n",
    "                add_cust_data(ord_tup, name, ord_num)\n",
    "                piza_type = input(\"Press x  to complete your order or to continue, select pizza type\")\n",
    "                piza_type = piza_type.upper()\n",
    "                \n",
    "            elif cnf == \"c\":\n",
    "                print_dict(pizza_type_dict)\n",
    "                piza_type = input(\"Please enter a valid option\")\n",
    "                piza_type = piza_type.upper()\n",
    "                \n",
    "         \n",
    "        \n",
    "        else:\n",
    "            print_dict(pizza_type_dict)\n",
    "            piza_type = input(\" Please enter a valid option\")\n",
    "            piza_type = piza_type.upper()\n",
    "    \n",
    "    \n",
    "    print(\" Thank you for your order, here is your final order\")\n",
    "    print_complete_order(name, ord_num)\n",
    "    print(\"Total amount to be paid\",str(total_bill))\n",
    "    \n",
    "    return none\n",
    "    \n",
    "                \n",
    "                \n",
    "           \n",
    "            \n",
    "                         "
   ]
  },
  {
   "cell_type": "code",
   "execution_count": 14,
   "metadata": {},
   "outputs": [],
   "source": [
    "# Example of customer data dictionary\n",
    "\n",
    "#cust_data[\"Ashish\"]= {\"num_of_orders\":4\n",
    "#                     \"order_num\": [(P1,B1[T1,T2],3)]\n",
    "#                     }"
   ]
  },
  {
   "cell_type": "code",
   "execution_count": null,
   "metadata": {},
   "outputs": [
    {
     "name": "stdout",
     "output_type": "stream",
     "text": [
      "Welcome to the pizza takeaway\n",
      "Please enter your name Ashish\n",
      "Hello Ashish, What kind of pizza would you like to have:\n",
      "Code, Type, Price\n",
      "P1, Magherita, 3.0\n",
      "P2, Chicago, 3.5\n",
      "P3, Greek, 3.0\n",
      "P4, California, 3.5\n",
      "P5, Farm house, 3.0\n",
      "Please select from above options:p1\n",
      " Here is the base options available\n",
      "Code, Type, Price\n",
      "B1, Thin crust, 1.0\n",
      "B2, Thick crust, 1.5\n",
      "B3, Cheese burst, 2.0\n",
      "Please enter your option:b1\n",
      "\n",
      "\n",
      " Please enter the toppings you would like to have from following list\n",
      "Code, Type, Price\n",
      "T1, Olives, 0.5\n",
      "T2, Extra Cheese, 0.5\n",
      "T3, Mushrooms, 0.5\n",
      "T4, Green peppers, 0.5\n",
      "Enter the toppings in comma separated form, e.g, if you want to add T1 and t2, enter T1, T2t1, t2\n",
      "Please enter the number of pizzas to order2\n",
      "\n",
      "\n",
      "Here is your order till now\n",
      "Pizza Type:  Magherita\n",
      "Pizza Base:  Thin crust\n",
      "Toppings:  ['T1', 'T2']\n",
      "Number of pizzas 2\n",
      "Press y to confirm, else press c to cancely\n",
      " Your total bill till now is 10.0\n",
      "Press x  to complete your order or to continue, select pizza typex\n",
      "Code, Type, Price\n",
      "P1, Magherita, 3.0\n",
      "P2, Chicago, 3.5\n",
      "P3, Greek, 3.0\n",
      "P4, California, 3.5\n",
      "P5, Farm house, 3.0\n",
      " Please enter a valid optionx\n",
      "Code, Type, Price\n",
      "P1, Magherita, 3.0\n",
      "P2, Chicago, 3.5\n",
      "P3, Greek, 3.0\n",
      "P4, California, 3.5\n",
      "P5, Farm house, 3.0\n"
     ]
    }
   ],
   "source": [
    "if __name__ == \"__main__\":\n",
    "    load_data(r\"F:\\MS Data Science - IIIT B Upgrad\\Python Crash Course-Rajan Chettri\\Types_of_Pizza.txt\", \"pizza\")\n",
    "    load_data(r\"F:\\MS Data Science - IIIT B Upgrad\\Python Crash Course-Rajan Chettri\\Types_of_Base.txt\", \"base\")\n",
    "    load_data(r\"F:\\MS Data Science - IIIT B Upgrad\\Python Crash Course-Rajan Chettri\\Types_of_Toppings.txt\", \"toppings\")\n",
    "    order()"
   ]
  },
  {
   "cell_type": "code",
   "execution_count": null,
   "metadata": {},
   "outputs": [],
   "source": [
    "cust_data[\"Ashish\"]= {\"num_of_orders\":4\n",
    "                    \"order_num\": [(P1,B1[T1,T2],3)]\n",
    "                    }"
   ]
  },
  {
   "cell_type": "code",
   "execution_count": null,
   "metadata": {},
   "outputs": [],
   "source": []
  }
 ],
 "metadata": {
  "kernelspec": {
   "display_name": "Python 3",
   "language": "python",
   "name": "python3"
  },
  "language_info": {
   "codemirror_mode": {
    "name": "ipython",
    "version": 3
   },
   "file_extension": ".py",
   "mimetype": "text/x-python",
   "name": "python",
   "nbconvert_exporter": "python",
   "pygments_lexer": "ipython3",
   "version": "3.7.4"
  }
 },
 "nbformat": 4,
 "nbformat_minor": 2
}
